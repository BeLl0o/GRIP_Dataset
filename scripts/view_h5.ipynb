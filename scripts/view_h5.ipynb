{
 "cells": [
  {
   "cell_type": "code",
   "execution_count": 4,
   "id": "390c8a16",
   "metadata": {},
   "outputs": [
    {
     "name": "stdout",
     "output_type": "stream",
     "text": [
      "Opened file: ../dataset/data/finray_core-bottle-2f4ec01bad6cd5ac488017d48a7f7eb4_rigid.h5\n",
      "HDF5 structure:\n",
      "\n",
      "[Group]   object_config\n",
      "[Dataset] object_config/ground_fric | shape: (), dtype: float64\n",
      "[Dataset] object_config/object_density | shape: (), dtype: object\n",
      "[Dataset] object_config/object_fric | shape: (), dtype: float64\n",
      "[Dataset] object_config/object_poisson | shape: (), dtype: float64\n",
      "[Dataset] object_config/object_type | shape: (), dtype: object\n",
      "[Dataset] object_config/object_youngs | shape: (), dtype: float64\n",
      "[Group]   trajectories\n",
      "[Dataset] trajectories/finray_joint_states | shape: (20, 100, 3), dtype: float64\n",
      "[Dataset] trajectories/finray_tf_states | shape: (20, 100, 4, 4), dtype: float64\n",
      "[Dataset] trajectories/hand_rotation | shape: (20, 100, 3, 3), dtype: float64\n",
      "[Dataset] trajectories/hand_translation | shape: (20, 100, 3), dtype: float64\n",
      "[Dataset] trajectories/left_f_collisions | shape: (20, 100, 2076, 3), dtype: float64\n",
      "[Dataset] trajectories/left_f_frictions | shape: (20, 100, 2076, 3), dtype: float64\n",
      "[Dataset] trajectories/leftfinger_cells | shape: (20, 6231, 4), dtype: int64\n",
      "[Dataset] trajectories/leftfinger_points | shape: (20, 100, 2076, 3), dtype: float64\n",
      "[Dataset] trajectories/object_f_collisions | shape: (20, 100, 506, 3), dtype: float64\n",
      "[Dataset] trajectories/object_f_frictions | shape: (20, 100, 506, 3), dtype: float64\n",
      "[Dataset] trajectories/object_faces | shape: (20, 100, 1008, 3), dtype: int64\n",
      "[Dataset] trajectories/object_states | shape: (20, 100, 4, 4), dtype: float64\n",
      "[Dataset] trajectories/object_vertices | shape: (20, 100, 506, 3), dtype: float64\n",
      "[Dataset] trajectories/right_f_collisions | shape: (20, 100, 2076, 3), dtype: float64\n",
      "[Dataset] trajectories/right_f_frictions | shape: (20, 100, 2076, 3), dtype: float64\n",
      "[Dataset] trajectories/rightfinger_cells | shape: (20, 6231, 4), dtype: int64\n",
      "[Dataset] trajectories/rightfinger_points | shape: (20, 100, 2076, 3), dtype: float64\n"
     ]
    }
   ],
   "source": [
    "import h5py\n",
    "import numpy as np\n",
    "\n",
    "file_path = \"../dataset/data/finray_core-bottle-2f4ec01bad6cd5ac488017d48a7f7eb4_rigid.h5\"\n",
    "\n",
    "def print_h5_structure(name, obj):\n",
    "    \"\"\"\n",
    "    Print the structure of the HDF5 file, including group names and dataset details.\n",
    "\n",
    "    Args:\n",
    "        name (str): Full path name of the object.\n",
    "        obj (h5py.Group or h5py.Dataset): HDF5 object to inspect.\n",
    "    \"\"\"\n",
    "    if isinstance(obj, h5py.Group):\n",
    "        print(f\"[Group]   {name}\")\n",
    "    elif isinstance(obj, h5py.Dataset):\n",
    "        print(f\"[Dataset] {name} | shape: {obj.shape}, dtype: {obj.dtype}\")\n",
    "\n",
    "with h5py.File(file_path, \"r\") as f:\n",
    "    print(f\"Opened file: {file_path}\")\n",
    "    print(\"HDF5 structure:\\n\")\n",
    "    f.visititems(print_h5_structure)"
   ]
  }
 ],
 "metadata": {
  "kernelspec": {
   "display_name": "grip",
   "language": "python",
   "name": "python3"
  },
  "language_info": {
   "codemirror_mode": {
    "name": "ipython",
    "version": 3
   },
   "file_extension": ".py",
   "mimetype": "text/x-python",
   "name": "python",
   "nbconvert_exporter": "python",
   "pygments_lexer": "ipython3",
   "version": "3.10.18"
  }
 },
 "nbformat": 4,
 "nbformat_minor": 5
}
